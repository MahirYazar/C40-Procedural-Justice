{
 "cells": [
  {
   "cell_type": "code",
   "execution_count": null,
   "metadata": {},
   "outputs": [],
   "source": [
    "import re\n",
    "import numpy as np\n",
    "import pandas as pd\n",
    "from pprint import pprint\n",
    "import nltk; nltk.download('stopwords')\n",
    "\n",
    "# Gensim\n",
    "import gensim\n",
    "import gensim.corpora as corpora\n",
    "from gensim.utils import simple_preprocess\n",
    "from gensim.models import CoherenceModel\n",
    "\n",
    "# spacy for lemmatization\n",
    "import spacy\n",
    "\n",
    "# Plotting tools\n",
    "import pyLDAvis\n",
    "import pyLDAvis.gensim_models # don't skip this\n",
    "import matplotlib.pyplot as plt\n",
    "%matplotlib inline\n",
    "\n",
    "# Enable logging for gensim - optional\n",
    "import logging\n",
    "logging.basicConfig(format='%(asctime)s : %(levelname)s : %(message)s', level=logging.ERROR)\n",
    "\n",
    "import warnings\n",
    "warnings.filterwarnings(\"ignore\",category=DeprecationWarning)"
   ]
  },
  {
   "cell_type": "code",
   "execution_count": 2,
   "metadata": {},
   "outputs": [],
   "source": [
    "import openpyxl\n",
    "from gensim.models import CoherenceModel\n",
    "import tqdm"
   ]
  },
  {
   "cell_type": "code",
   "execution_count": 3,
   "metadata": {},
   "outputs": [],
   "source": [
    "from nltk.corpus import stopwords\n",
    "stop_words = stopwords.words('english')\n",
    "#stop_words.extend(il_ilce)"
   ]
  },
  {
   "cell_type": "code",
   "execution_count": 66,
   "metadata": {},
   "outputs": [],
   "source": [
    "df = pd.read_excel(\"Procedural Justice.xlsx\")"
   ]
  },
  {
   "cell_type": "code",
   "execution_count": 67,
   "metadata": {},
   "outputs": [
    {
     "data": {
      "text/plain": [
       "Index(['City \\n(*innovator)', 'Distributive Justice'], dtype='object')"
      ]
     },
     "execution_count": 67,
     "metadata": {},
     "output_type": "execute_result"
    }
   ],
   "source": [
    "df.columns"
   ]
  },
  {
   "cell_type": "code",
   "execution_count": 68,
   "metadata": {},
   "outputs": [],
   "source": [
    "data= df[\"Policy Choices\"]"
   ]
  },
  {
   "cell_type": "code",
   "execution_count": 69,
   "metadata": {},
   "outputs": [],
   "source": [
    "# Remove punctuation\n",
    "data.map(lambda x: re.sub('[,\\.!?;/]', '', x))\n",
    "# Convert the titles to lowercase\n",
    "data = \\\n",
    "data.map(lambda x: x.lower())\n",
    "# Print out the first rows of papers\n",
    "data.head()\n",
    "data = data.values.tolist()"
   ]
  },
  {
   "cell_type": "code",
   "execution_count": 70,
   "metadata": {},
   "outputs": [],
   "source": [
    "def sent_to_words(sentences):\n",
    "    for sentence in sentences:\n",
    "        yield(gensim.utils.simple_preprocess(str(sentence), deacc=True))  # deacc=True removes punctuations\n",
    "\n",
    "data_words = list(sent_to_words(data))"
   ]
  },
  {
   "cell_type": "code",
   "execution_count": 71,
   "metadata": {},
   "outputs": [
    {
     "name": "stdout",
     "output_type": "stream",
     "text": [
      "['empower', 'women', 'and', 'young', 'people', 'through', 'the', 'development', 'of', 'income', 'generating', 'activities', 'in', 'the', 'agricultural', 'sector']\n"
     ]
    }
   ],
   "source": [
    "# Build the bigram and trigram models\n",
    "bigram = gensim.models.Phrases(data_words, min_count=5, threshold=20) # higher threshold fewer phrases.\n",
    "trigram = gensim.models.Phrases(bigram[data_words], threshold=20)  \n",
    "\n",
    "# Faster way to get a sentence clubbed as a trigram/bigram\n",
    "bigram_mod = gensim.models.phrases.Phraser(bigram)\n",
    "trigram_mod = gensim.models.phrases.Phraser(trigram)\n",
    "\n",
    "# See trigram example\n",
    "print(trigram_mod[bigram_mod[data_words[0]]])"
   ]
  },
  {
   "cell_type": "code",
   "execution_count": 72,
   "metadata": {},
   "outputs": [],
   "source": [
    "def remove_stopwords(texts):\n",
    "    return [[word for word in simple_preprocess(str(doc)) if word not in stop_words] for doc in texts]\n",
    "\n",
    "def make_bigrams(texts):\n",
    "    return [bigram_mod[doc] for doc in texts]\n",
    "\n",
    "def make_trigrams(texts):\n",
    "    return [trigram_mod[bigram_mod[doc]] for doc in texts]\n",
    "\n",
    "def lemmatization(texts, allowed_postags=['NOUN', 'ADJ', 'VERB', 'ADV']):\n",
    "    \"\"\"https://spacy.io/api/annotation\"\"\"\n",
    "    texts_out = []\n",
    "    for sent in texts:\n",
    "        doc = nlp(\" \".join(sent)) \n",
    "        texts_out.append([token.lemma_ for token in doc if token.pos_ in allowed_postags])\n",
    "    return texts_out"
   ]
  },
  {
   "cell_type": "code",
   "execution_count": 73,
   "metadata": {},
   "outputs": [
    {
     "data": {
      "text/plain": [
       "<spacy.lang.en.English at 0x28c0781f0>"
      ]
     },
     "execution_count": 73,
     "metadata": {},
     "output_type": "execute_result"
    }
   ],
   "source": [
    "spacy.load('en_core_web_sm')"
   ]
  },
  {
   "cell_type": "code",
   "execution_count": 74,
   "metadata": {},
   "outputs": [
    {
     "name": "stdout",
     "output_type": "stream",
     "text": [
      "[['empower', 'woman', 'young', 'people', 'development', 'income', 'generating', 'activity', 'agricultural', 'sector']]\n"
     ]
    }
   ],
   "source": [
    "# Remove Stop Words\n",
    "data_words_nostops = remove_stopwords(data_words)\n",
    "\n",
    "# Form Bigrams\n",
    "data_words_bigrams = make_bigrams(data_words_nostops)\n",
    "\n",
    "# Initialize spacy 'en' model, keeping only tagger component (for efficiency)\n",
    "# python3 -m spacy download en\n",
    "nlp = spacy.load(\"en_core_web_sm\", disable=['parser', 'ner'])\n",
    "\n",
    "# Do lemmatization keeping only noun, adj, vb, adv\n",
    "data_lemmatized = lemmatization(data_words_bigrams, allowed_postags=['NOUN', 'ADJ', 'VERB', 'ADV'])\n",
    "\n",
    "print(data_lemmatized[:1])"
   ]
  },
  {
   "cell_type": "code",
   "execution_count": 75,
   "metadata": {},
   "outputs": [
    {
     "name": "stdout",
     "output_type": "stream",
     "text": [
      "[[(0, 1), (1, 1), (2, 1), (3, 1), (4, 1), (5, 1), (6, 1), (7, 1), (8, 1), (9, 1)]]\n"
     ]
    }
   ],
   "source": [
    "# Create Dictionary\n",
    "id2word = corpora.Dictionary(data_lemmatized)\n",
    "\n",
    "# Create Corpus\n",
    "texts = data_lemmatized\n",
    "\n",
    "# Term Document Frequency\n",
    "corpus = [id2word.doc2bow(text) for text in texts]\n",
    "\n",
    "# View\n",
    "print(corpus[:1])"
   ]
  },
  {
   "cell_type": "markdown",
   "metadata": {},
   "source": [
   ]
  },
  {
   "cell_type": "code",
   "execution_count": 76,
   "metadata": {},
   "outputs": [],
   "source": [
    "lda_model = gensim.models.ldamodel.LdaModel(corpus=corpus,\n",
    "                                           id2word=id2word,\n",
    "                                           num_topics=20, \n",
    "                                           random_state=100,\n",
    "                                           update_every=10,\n",
    "                                           chunksize=100,\n",
    "                                           passes=10,\n",
    "                                           alpha='auto',\n",
    "                                           per_word_topics=True)"
   ]
  },
  {
   "cell_type": "code",
   "execution_count": 77,
   "metadata": {},
   "outputs": [
    {
     "name": "stdout",
     "output_type": "stream",
     "text": [
      "[(0,\n",
      "  '0.040*\"subsidy\" + 0.040*\"grant\" + 0.027*\"social\" + 0.027*\"housing\" + '\n",
      "  '0.027*\"vulnerable\" + 0.014*\"implementation\" + 0.014*\"scheme\" + '\n",
      "  '0.014*\"sector\" + 0.014*\"discuss\" + 0.014*\"national\"'),\n",
      " (1,\n",
      "  '0.031*\"energy\" + 0.023*\"community\" + 0.016*\"access\" + 0.016*\"woman\" + '\n",
      "  '0.012*\"benefit\" + 0.012*\"prioritize\" + 0.012*\"population\" + '\n",
      "  '0.012*\"low_income\" + 0.012*\"area\" + 0.012*\"slum\"'),\n",
      " (2,\n",
      "  '0.046*\"vulnerable\" + 0.031*\"community\" + 0.016*\"climate\" + '\n",
      "  '0.016*\"population\" + 0.016*\"attention\" + 0.016*\"center\" + 0.016*\"people\" + '\n",
      "  '0.016*\"displace\" + 0.016*\"migrant\" + 0.016*\"urban\"'),\n",
      " (3,\n",
      "  '0.054*\"community\" + 0.041*\"informal_settlement\" + 0.027*\"distribution\" + '\n",
      "  '0.027*\"develop\" + 0.027*\"green\" + 0.014*\"benefit\" + 0.014*\"strategy\" + '\n",
      "  '0.014*\"stakeholder\" + 0.014*\"implementation\" + 0.014*\"fair\"'),\n",
      " (4,\n",
      "  '0.043*\"community\" + 0.042*\"solar\" + 0.026*\"energy\" + 0.026*\"program\" + '\n",
      "  '0.026*\"neighborhood\" + 0.017*\"equity\" + 0.017*\"low\" + 0.017*\"low_income\" + '\n",
      "  '0.017*\"charge\" + 0.017*\"support\"'),\n",
      " (5,\n",
      "  '0.039*\"vulnerable\" + 0.027*\"solar\" + 0.022*\"implement\" + 0.018*\"community\" '\n",
      "  '+ 0.017*\"informal_settlement\" + 0.017*\"group\" + 0.017*\"social\" + '\n",
      "  '0.016*\"energy\" + 0.016*\"household\" + 0.011*\"access\"'),\n",
      " (6,\n",
      "  '0.033*\"vulnerable\" + 0.033*\"area\" + 0.033*\"public\" + 0.025*\"low_income\" + '\n",
      "  '0.025*\"transport\" + 0.017*\"community\" + 0.017*\"resident\" + '\n",
      "  '0.017*\"aucklander\" + 0.017*\"car\" + 0.017*\"increase\"'),\n",
      " (7,\n",
      "  '0.037*\"population\" + 0.036*\"low_income\" + 0.030*\"vulnerable\" + '\n",
      "  '0.024*\"program\" + 0.018*\"resident\" + 0.012*\"community\" + 0.012*\"energy\" + '\n",
      "  '0.012*\"group\" + 0.012*\"management\" + 0.012*\"coastal\"'),\n",
      " (8,\n",
      "  '0.026*\"benefit\" + 0.026*\"infrastructure\" + 0.025*\"transport\" + '\n",
      "  '0.018*\"community\" + 0.018*\"income\" + 0.017*\"energy\" + 0.017*\"development\" + '\n",
      "  '0.017*\"expansion\" + 0.017*\"area\" + 0.017*\"public\"'),\n",
      " (9,\n",
      "  '0.022*\"vulnerable\" + 0.022*\"low_income\" + 0.022*\"well\" + 0.022*\"climate\" + '\n",
      "  '0.022*\"especially\" + 0.022*\"health\" + 0.011*\"solar\" + 0.011*\"bike\" + '\n",
      "  '0.011*\"social\" + 0.011*\"people\"'),\n",
      " (10,\n",
      "  '0.038*\"space\" + 0.025*\"low_income\" + 0.025*\"neighbourhood\" + 0.013*\"energy\" '\n",
      "  '+ 0.013*\"access\" + 0.013*\"green\" + 0.013*\"guarantee\" + 0.013*\"ecosystem\" + '\n",
      "  '0.013*\"service\" + 0.013*\"expansion\"'),\n",
      " (11,\n",
      "  '0.002*\"energy\" + 0.002*\"burden\" + 0.002*\"household\" + 0.002*\"resident\" + '\n",
      "  '0.002*\"community\" + 0.002*\"prioritize\" + 0.002*\"define\" + 0.002*\"solar\" + '\n",
      "  '0.002*\"project\" + 0.002*\"spend\"'),\n",
      " (12,\n",
      "  '0.043*\"energy\" + 0.022*\"share\" + 0.022*\"household\" + 0.022*\"access\" + '\n",
      "  '0.015*\"system\" + 0.015*\"neighborhood\" + 0.015*\"climate\" + 0.015*\"design\" + '\n",
      "  '0.015*\"solution\" + 0.015*\"include\"'),\n",
      " (13,\n",
      "  '0.026*\"improve\" + 0.026*\"conservation\" + 0.026*\"household\" + '\n",
      "  '0.014*\"resident\" + 0.014*\"strategy\" + 0.014*\"preserve\" + 0.014*\"quality\" + '\n",
      "  '0.014*\"prevent\" + 0.014*\"settlement\" + 0.014*\"irregular\"'),\n",
      " (14,\n",
      "  '0.038*\"energy\" + 0.033*\"access\" + 0.032*\"vulnerable\" + 0.027*\"community\" + '\n",
      "  '0.022*\"area\" + 0.016*\"prone\" + 0.016*\"water\" + 0.016*\"space\" + '\n",
      "  '0.016*\"expansion\" + 0.016*\"green\"'),\n",
      " (15,\n",
      "  '0.062*\"community\" + 0.058*\"energy\" + 0.029*\"action\" + 0.023*\"household\" + '\n",
      "  '0.022*\"solar\" + 0.022*\"income\" + 0.022*\"burden\" + 0.016*\"area\" + '\n",
      "  '0.015*\"vulnerable\" + 0.015*\"resident\"'),\n",
      " (16,\n",
      "  '0.029*\"energy\" + 0.019*\"program\" + 0.019*\"intervention\" + 0.019*\"child\" + '\n",
      "  '0.019*\"system\" + 0.010*\"low_income\" + 0.010*\"access\" + 0.010*\"community\" + '\n",
      "  '0.010*\"household\" + 0.010*\"people\"'),\n",
      " (17,\n",
      "  '0.027*\"reduce\" + 0.027*\"fuel\" + 0.027*\"vulnerability\" + 0.027*\"poor\" + '\n",
      "  '0.027*\"cookstove\" + 0.027*\"alternative\" + 0.027*\"community\" + '\n",
      "  '0.027*\"incentive\" + 0.027*\"subsidy\" + 0.001*\"household\"'),\n",
      " (18,\n",
      "  '0.039*\"people\" + 0.029*\"reduce\" + 0.020*\"woman\" + 0.020*\"activity\" + '\n",
      "  '0.020*\"generating\" + 0.020*\"vulnerability\" + 0.020*\"number\" + '\n",
      "  '0.020*\"develop\" + 0.020*\"population\" + 0.020*\"effect\"'),\n",
      " (19,\n",
      "  '0.002*\"civil\" + 0.002*\"give\" + 0.002*\"universal\" + 0.002*\"disabilitie\" + '\n",
      "  '0.002*\"public\" + 0.002*\"woman\" + 0.002*\"community\" + 0.002*\"support\" + '\n",
      "  '0.002*\"number\" + 0.002*\"area\"')]\n"
     ]
    }
   ],
   "source": [
    "pprint(lda_model.print_topics())\n",
    "doc_lda = lda_model[corpus]"
   ]
  },
  {
   "cell_type": "code",
   "execution_count": 78,
   "metadata": {},
   "outputs": [
    {
     "name": "stdout",
     "output_type": "stream",
     "text": [
      "\n",
      "Perplexity:  -6.815225021727153\n",
      "\n",
      "Coherence Score:  0.3893213064049802\n"
     ]
    }
   ],
   "source": [
    "print('\\nPerplexity: ', lda_model.log_perplexity(corpus))  # a measure of how good the model is. lower the better.\n",
    "\n",
    "# Compute Coherence Score\n",
    "coherence_model_lda = CoherenceModel(model=lda_model, texts=data_lemmatized, dictionary=id2word, coherence='c_v')\n",
    "coherence_lda = coherence_model_lda.get_coherence()\n",
    "print('\\nCoherence Score: ', coherence_lda)"
   ]
  },
  {
   "cell_type": "code",
   "execution_count": 79,
   "metadata": {},
   "outputs": [],
   "source": [
    "def compute_coherence_values(dictionary, corpus, texts, limit, start, step):\n",
    "    coherence_values = []\n",
    "    model_list = []\n",
    "    for num_topics in range(start, limit, step):\n",
    "        #model=gensim.models.LdaMulticore(corpus=corpus, id2word=dictionary, num_topics=num_topics, iterations=750,chunksize=100,passes=10,)\n",
    "\n",
    "        model = gensim.models.ldamodel.LdaModel(corpus=corpus,\n",
    "                                           id2word=dictionary,\n",
    "                                           num_topics=num_topics, \n",
    "                                           random_state=100,\n",
    "                                           update_every=1,\n",
    "                                           chunksize=100,\n",
    "                                            passes=10,\n",
    "                                           alpha=0.91,\n",
    "                                           eta='symmetric',\n",
    "                                           per_word_topics=True)\n",
    "        model_list.append(model)\n",
    "        coherencemodel = CoherenceModel(model=model, texts=texts, dictionary=dictionary, coherence='c_v')\n",
    "        coherence_values.append(coherencemodel.get_coherence())\n",
    "    return model_list, coherence_values"
   ]
  },
  {
   "cell_type": "code",
   "execution_count": 80,
   "metadata": {},
   "outputs": [],
   "source": [
    "model_list, coherence_values = compute_coherence_values(dictionary=id2word, corpus=corpus, texts=data_lemmatized, start=12, limit=40, step=2)"
   ]
  },
  {
   "cell_type": "code",
   "execution_count": 81,
   "metadata": {},
   "outputs": [
    {
     "data": {
      "image/png": "[encoded data removed]",
      "text/plain": [
       "<Figure size 640x480 with 1 Axes>"
      ]
     },
     "metadata": {},
     "output_type": "display_data"
    }
   ],
   "source": [
    "import matplotlib.pyplot as plt\n",
    "limit=40; start=12; step=2;\n",
    "x = range(start, limit, step)\n",
    "plt.plot(x, coherence_values)\n",
    "plt.xlabel(\"Num Topics\")\n",
    "plt.ylabel(\"Coherence score\")\n",
    "plt.legend((\"coherence_values\"), loc='best')\n",
    "plt.show()\n"
   ]
  },
  {
   "cell_type": "code",
   "execution_count": 82,
   "metadata": {},
   "outputs": [
    {
     "data": {
      "text/plain": [
       "[0.42330171779509596,\n",
       " 0.4556009131007182,\n",
       " 0.4847274862132461,\n",
       " 0.47792369528652556,\n",
       " 0.48844778938462524,\n",
       " 0.48270137447127615,\n",
       " 0.48343657603222806,\n",
       " 0.45434992092307946,\n",
       " 0.4269593160789937,\n",
       " 0.41518053759899337,\n",
       " 0.39306884992987967,\n",
       " 0.39499357119713047,\n",
       " 0.39098726928772837,\n",
       " 0.3890392566616091]"
      ]
     },
     "execution_count": 82,
     "metadata": {},
     "output_type": "execute_result"
    }
   ],
   "source": [
    "coherence_values"
   ]
  },
  {
   "cell_type": "code",
   "execution_count": 83,
   "metadata": {},
   "outputs": [],
   "source": [
    "lda_model = gensim.models.ldamodel.LdaModel(corpus=corpus,\n",
    "                                           id2word=id2word,\n",
    "                                           num_topics=22, \n",
    "                                           random_state=100,\n",
    "                                           update_every=1,\n",
    "                                           chunksize=100,\n",
    "                                           passes=10,\n",
    "                                           alpha='auto',\n",
    "                                           eta='auto',\n",
    "                                           per_word_topics=True)"
   ]
  },
  {
   "cell_type": "code",
   "execution_count": 84,
   "metadata": {},
   "outputs": [
    {
     "name": "stdout",
     "output_type": "stream",
     "text": [
      "[(21,\n",
      "  '0.002*\"efficient\" + 0.002*\"recycle\" + 0.002*\"adaptation\" + '\n",
      "  '0.002*\"bioclimatic\" + 0.002*\"coating\" + 0.002*\"creation\" + 0.002*\"drainage\" '\n",
      "  '+ 0.002*\"eco\" + 0.002*\"recovery\" + 0.002*\"stop\"'),\n",
      " (17,\n",
      "  '0.002*\"efficient\" + 0.002*\"recycle\" + 0.002*\"adaptation\" + '\n",
      "  '0.002*\"bioclimatic\" + 0.002*\"coating\" + 0.002*\"creation\" + 0.002*\"drainage\" '\n",
      "  '+ 0.002*\"eco\" + 0.002*\"recovery\" + 0.002*\"stop\"'),\n",
      " (20,\n",
      "  '0.002*\"low_income\" + 0.002*\"transport\" + 0.002*\"aucklander\" + '\n",
      "  '0.002*\"support\" + 0.002*\"public\" + 0.002*\"personal\" + 0.002*\"improve\" + '\n",
      "  '0.002*\"access\" + 0.002*\"adjust\" + 0.002*\"mobility\"'),\n",
      " (11,\n",
      "  '0.044*\"alternative\" + 0.025*\"subsidy\" + 0.025*\"address\" + 0.025*\"alleviate\" '\n",
      "  '+ 0.025*\"transition\" + 0.025*\"pathway\" + 0.024*\"education\" + '\n",
      "  '0.023*\"rooftop\" + 0.023*\"human\" + 0.021*\"technology\"'),\n",
      " (19,\n",
      "  '0.028*\"project\" + 0.028*\"climate\" + 0.028*\"neighborhood\" + 0.028*\"system\" + '\n",
      "  '0.015*\"equity\" + 0.015*\"community\" + 0.015*\"generation\" + 0.015*\"base\" + '\n",
      "  '0.015*\"photovoltaic\" + 0.015*\"transition\"'),\n",
      " (10,\n",
      "  '0.038*\"space\" + 0.026*\"low_income\" + 0.025*\"neighbourhood\" + '\n",
      "  '0.013*\"improve\" + 0.013*\"green\" + 0.013*\"public\" + 0.013*\"transport\" + '\n",
      "  '0.013*\"citizen\" + 0.013*\"mobility\" + 0.013*\"quality\"'),\n",
      " (3,\n",
      "  '0.067*\"share\" + 0.023*\"community\" + 0.023*\"incentive\" + 0.023*\"poor\" + '\n",
      "  '0.023*\"subsidy\" + 0.023*\"vulnerability\" + 0.023*\"car\" + 0.023*\"mobility\" + '\n",
      "  '0.023*\"alternative\" + 0.023*\"inclusive\"'),\n",
      " (18,\n",
      "  '0.043*\"population\" + 0.022*\"area\" + 0.022*\"service\" + 0.022*\"low_income\" + '\n",
      "  '0.022*\"vulnerable\" + 0.011*\"community\" + 0.011*\"income\" + 0.011*\"connect\" + '\n",
      "  '0.011*\"low\" + 0.011*\"prioritize\"'),\n",
      " (8,\n",
      "  '0.035*\"low_income\" + 0.035*\"benefit\" + 0.035*\"community\" + '\n",
      "  '0.023*\"expansion\" + 0.023*\"transport\" + 0.023*\"residential\" + '\n",
      "  '0.023*\"development\" + 0.023*\"public\" + 0.023*\"low\" + 0.023*\"income\"'),\n",
      " (9,\n",
      "  '0.022*\"pool\" + 0.022*\"mobility\" + 0.022*\"support\" + 0.022*\"social\" + '\n",
      "  '0.011*\"community\" + 0.011*\"need\" + 0.011*\"area\" + 0.011*\"elderly\" + '\n",
      "  '0.011*\"household\" + 0.011*\"homeless\"'),\n",
      " (13,\n",
      "  '0.032*\"city\" + 0.032*\"energy\" + 0.021*\"conservation\" + 0.021*\"household\" + '\n",
      "  '0.021*\"system\" + 0.021*\"home\" + 0.021*\"solar\" + 0.021*\"vulnerable\" + '\n",
      "  '0.011*\"least\" + 0.011*\"poverty\"'),\n",
      " (14,\n",
      "  '0.033*\"vulnerable\" + 0.030*\"target\" + 0.030*\"expansion\" + 0.026*\"energy\" + '\n",
      "  '0.021*\"group\" + 0.020*\"specifically\" + 0.020*\"access\" + 0.019*\"ensure\" + '\n",
      "  '0.018*\"informal_settlement\" + 0.016*\"identify\"'),\n",
      " (7,\n",
      "  '0.034*\"vulnerable\" + 0.027*\"low_income\" + 0.027*\"community\" + '\n",
      "  '0.020*\"population\" + 0.020*\"green\" + 0.020*\"develop\" + '\n",
      "  '0.020*\"informal_settlement\" + 0.014*\"area\" + 0.014*\"group\" + '\n",
      "  '0.014*\"electric\"'),\n",
      " (2,\n",
      "  '0.043*\"community\" + 0.037*\"vulnerable\" + 0.031*\"woman\" + 0.025*\"area\" + '\n",
      "  '0.025*\"climate\" + 0.019*\"prone\" + 0.019*\"program\" + 0.019*\"flood\" + '\n",
      "  '0.019*\"increase\" + 0.019*\"slum\"'),\n",
      " (12,\n",
      "  '0.044*\"energy\" + 0.037*\"solar\" + 0.034*\"affordable\" + 0.029*\"household\" + '\n",
      "  '0.026*\"access\" + 0.025*\"great\" + 0.024*\"programme\" + 0.021*\"safe\" + '\n",
      "  '0.017*\"serve\" + 0.017*\"least\"'),\n",
      " (1,\n",
      "  '0.033*\"energy\" + 0.023*\"access\" + 0.020*\"community\" + 0.014*\"transit\" + '\n",
      "  '0.014*\"offer\" + 0.014*\"sustainable\" + 0.014*\"strategy\" + 0.014*\"resource\" + '\n",
      "  '0.014*\"reduction\" + 0.014*\"assistance\"'),\n",
      " (4,\n",
      "  '0.047*\"community\" + 0.024*\"benefit\" + 0.024*\"climate_change\" + '\n",
      "  '0.024*\"vulnerable\" + 0.016*\"increase\" + 0.016*\"car\" + 0.016*\"carbon\" + '\n",
      "  '0.016*\"energy\" + 0.016*\"population\" + 0.016*\"charge\"'),\n",
      " (5,\n",
      "  '0.045*\"vulnerable\" + 0.040*\"community\" + 0.020*\"energy\" + 0.019*\"group\" + '\n",
      "  '0.014*\"cool\" + 0.014*\"equity\" + 0.014*\"solar\" + 0.014*\"risk\" + '\n",
      "  '0.014*\"household\" + 0.014*\"social\"'),\n",
      " (6,\n",
      "  '0.023*\"vulnerable\" + 0.023*\"area\" + 0.023*\"low_income\" + 0.023*\"transport\" '\n",
      "  '+ 0.023*\"public\" + 0.023*\"community\" + 0.016*\"certain\" + 0.016*\"impact\" + '\n",
      "  '0.016*\"affordable_house\" + 0.016*\"climate\"'),\n",
      " (15,\n",
      "  '0.059*\"energy\" + 0.029*\"community\" + 0.021*\"household\" + 0.020*\"low_income\" '\n",
      "  '+ 0.018*\"solar\" + 0.017*\"action\" + 0.015*\"access\" + 0.013*\"neighborhood\" + '\n",
      "  '0.013*\"program\" + 0.013*\"area\"')]\n"
     ]
    }
   ],
   "source": [
    "pprint(lda_model.print_topics())\n",
    "doc_lda = lda_model[corpus]"
   ]
  },
  {
   "cell_type": "code",
   "execution_count": 85,
   "metadata": {},
   "outputs": [],
   "source": [
    "# supporting function\n",
    "def compute_coherence_values(corpus, dictionary, k, a, b):\n",
    "    \n",
    "    lda_model = gensim.models.ldamodel.LdaModel(corpus=corpus,\n",
    "                                           id2word=dictionary,\n",
    "                                           num_topics=k, \n",
    "                                           random_state=100,\n",
    "                                           chunksize=100,\n",
    "                                           passes=10,\n",
    "                                           alpha=a,\n",
    "                                           eta=b)\n",
    "\n",
    "    \n",
    "    coherence_model_lda = CoherenceModel(model=lda_model, texts=data_lemmatized, dictionary=id2word, coherence='c_v')\n",
    "    \n",
    "    return coherence_model_lda.get_coherence()"
   ]
  },
  {
   "cell_type": "code",
   "execution_count": 86,
   "metadata": {},
   "outputs": [
    {
     "name": "stderr",
     "output_type": "stream",
     "text": [
      " 67%|███████████████████████████▎             | 360/540 [11:56<05:58,  1.99s/it]\n"
     ]
    }
   ],
   "source": [
    "#to be able to choose the best model\n",
    "\n",
    "import numpy as np\n",
    "import tqdm\n",
    "grid = {}\n",
    "grid['Validation_Set'] = {}\n",
    "\n",
    "# Topics range\n",
    "min_topics = 11\n",
    "max_topics = 35\n",
    "step_size = 2\n",
    "topics_range = range(min_topics, max_topics, step_size)\n",
    "# Alpha parameter\n",
    "alpha = list(np.arange(0.01, 1, 0.3))\n",
    "alpha.append('symmetric')\n",
    "alpha.append('asymmetric')\n",
    "# Beta parameter\n",
    "beta = list(np.arange(0.01, 1, 0.3))\n",
    "beta.append('symmetric')\n",
    "# Validation sets\n",
    "num_of_docs = len(corpus)\n",
    "#corpus_sets = [# gensim.utils.ClippedCorpus(corpus, num_of_docs*0.25), \n",
    "               # gensim.utils.ClippedCorpus(corpus, num_of_docs*0.5), \n",
    "               #gensim.utils.ClippedCorpus(corpus, num_of_docs*0.75), \n",
    "               #corpus]\n",
    "#corpus_title = ['75% Corpus', '100% Corpus'], 'Validation_Set': [],\n",
    "model_results = {'Topics': [],\n",
    "                 'Alpha': [],\n",
    "                 'Beta': [],\n",
    "                 'Coherence': []\n",
    "                }\n",
    "\n",
    "# Can take a long time to run\n",
    "if 1 == 1:\n",
    "    pbar = tqdm.tqdm(total=540)\n",
    "    \n",
    "    # iterate through validation corpuses\n",
    "    #for i in range(len(corpus_sets)):\n",
    "        # iterate through number of topics\n",
    "    for k in topics_range:\n",
    "        # iterate through alpha values\n",
    "        for a in alpha:\n",
    "            # iterare through beta values\n",
    "            for b in beta:\n",
    "                # get the coherence score for the given parameters\n",
    "                cv = compute_coherence_values(corpus=corpus, dictionary=id2word, \n",
    "                                                k=k, a=a, b=b)\n",
    "                # Save the model results\n",
    "                #model_results['Validation_Set'].append(corpus_title[i])\n",
    "                model_results['Topics'].append(k)\n",
    "                model_results['Alpha'].append(a)\n",
    "                model_results['Beta'].append(b)\n",
    "                model_results['Coherence'].append(cv)\n",
    "\n",
    "\n",
    "                pbar.update(1)\n",
    "    pd.DataFrame(model_results).to_csv('lda_tuning_results_national.csv', index=False)\n",
    "    pbar.close()"
   ]
  },
  {
   "cell_type": "code",
   "execution_count": 87,
   "metadata": {},
   "outputs": [],
   "source": [
    "#results of tuning part\n",
    "df3= pd.read_csv(\"lda_tuning_results_national.csv\")"
   ]
  },
  {
   "cell_type": "code",
   "execution_count": 89,
   "metadata": {},
   "outputs": [],
   "source": [
    "lda_model = gensim.models.ldamodel.LdaModel(corpus=corpus,\n",
    "                                           id2word=id2word,\n",
    "                                           num_topics=19, \n",
    "                                           random_state=100,\n",
    "                                           update_every=1,\n",
    "                                           chunksize=100,\n",
    "                                           passes=10,\n",
    "                                           alpha=0.91,\n",
    "                                           eta=\"auto\",\n",
    "                                           per_word_topics=True)"
   ]
  },
  {
   "cell_type": "code",
   "execution_count": 90,
   "metadata": {},
   "outputs": [
    {
     "name": "stdout",
     "output_type": "stream",
     "text": [
      "\n",
      "Perplexity:  -7.2725234472633735\n",
      "\n",
      "Coherence Score:  0.48575701117419945\n"
     ]
    }
   ],
   "source": [
    "print('\\nPerplexity: ', lda_model.log_perplexity(corpus))  # a measure of how good the model is. lower the better.\n",
    "\n",
    "# Compute Coherence Score\n",
    "coherence_model_lda = CoherenceModel(model=lda_model, texts=data_lemmatized, dictionary=id2word, coherence='c_v')\n",
    "coherence_lda = coherence_model_lda.get_coherence()\n",
    "print('\\nCoherence Score: ', coherence_lda)"
   ]
  },
  {
   "cell_type": "code",
   "execution_count": 91,
   "metadata": {},
   "outputs": [],
   "source": [
    "ldamodel = lda_model\n",
    "texts=data"
   ]
  },
  {
   "cell_type": "code",
   "execution_count": 92,
   "metadata": {},
   "outputs": [],
   "source": [
    "sent_topics_df = pd.DataFrame()\n",
    "sent_topics_df_list = list()"
   ]
  },
  {
   "cell_type": "code",
   "execution_count": 93,
   "metadata": {},
   "outputs": [],
   "source": [
    "for i, row_list in enumerate(ldamodel[corpus]):\n",
    "        row = row_list[0] if ldamodel.per_word_topics else row_list            \n",
    "        # print(row)\n",
    "        row = sorted(row, key=lambda x: (x[1]), reverse=True)\n",
    "        # Get the Dominant topic, Perc Contribution and Keywords for each document\n",
    "        for j, (topic_num, prop_topic) in enumerate(row):\n",
    "            if j == 0:  # => dominant topic\n",
    "                wp = ldamodel.show_topic(topic_num)\n",
    "                topic_keywords = \", \".join([word for word, prop in wp])\n",
    "                sent_topics_df_list.append(pd.Series([int(topic_num), round(prop_topic,4), topic_keywords]))\n",
    "            else:\n",
    "                break"
   ]
  },
  {
   "cell_type": "code",
   "execution_count": 94,
   "metadata": {},
   "outputs": [
    {
     "data": {
      "text/plain": [
       "0                                                    2\n",
       "1                                               0.1865\n",
       "2    vulnerable, community, climate, area, prone, u...\n",
       "dtype: object"
      ]
     },
     "execution_count": 94,
     "metadata": {},
     "output_type": "execute_result"
    }
   ],
   "source": [
    "sent_topics_df_list[0]"
   ]
  },
  {
   "cell_type": "code",
   "execution_count": 95,
   "metadata": {},
   "outputs": [],
   "source": [
    "sent_topics_df = pd.concat(sent_topics_df_list,axis=1,ignore_index=True)"
   ]
  },
  {
   "cell_type": "code",
   "execution_count": 96,
   "metadata": {},
   "outputs": [],
   "source": [
    "sent_topics_df = sent_topics_df.transpose()"
   ]
  },
  {
   "cell_type": "code",
   "execution_count": 97,
   "metadata": {},
   "outputs": [
    {
     "data": {
      "text/html": [
       "<div>\n",
       "<style scoped>\n",
       "    .dataframe tbody tr th:only-of-type {\n",
       "        vertical-align: middle;\n",
       "    }\n",
       "\n",
       "    .dataframe tbody tr th {\n",
       "        vertical-align: top;\n",
       "    }\n",
       "\n",
       "    .dataframe thead th {\n",
       "        text-align: right;\n",
       "    }\n",
       "</style>\n",
       "<table border=\"1\" class=\"dataframe\">\n",
       "  <thead>\n",
       "    <tr style=\"text-align: right;\">\n",
       "      <th></th>\n",
       "      <th>0</th>\n",
       "      <th>1</th>\n",
       "      <th>2</th>\n",
       "    </tr>\n",
       "  </thead>\n",
       "  <tbody>\n",
       "    <tr>\n",
       "      <th>0</th>\n",
       "      <td>2</td>\n",
       "      <td>0.1865</td>\n",
       "      <td>vulnerable, community, climate, area, prone, u...</td>\n",
       "    </tr>\n",
       "    <tr>\n",
       "      <th>1</th>\n",
       "      <td>16</td>\n",
       "      <td>0.2103</td>\n",
       "      <td>energy, household, poverty, solar, low_income,...</td>\n",
       "    </tr>\n",
       "    <tr>\n",
       "      <th>2</th>\n",
       "      <td>14</td>\n",
       "      <td>0.3579</td>\n",
       "      <td>expansion, vulnerable, access, target, poor, c...</td>\n",
       "    </tr>\n",
       "    <tr>\n",
       "      <th>3</th>\n",
       "      <td>16</td>\n",
       "      <td>0.7036</td>\n",
       "      <td>energy, household, poverty, solar, low_income,...</td>\n",
       "    </tr>\n",
       "    <tr>\n",
       "      <th>4</th>\n",
       "      <td>16</td>\n",
       "      <td>0.3092</td>\n",
       "      <td>energy, household, poverty, solar, low_income,...</td>\n",
       "    </tr>\n",
       "    <tr>\n",
       "      <th>...</th>\n",
       "      <td>...</td>\n",
       "      <td>...</td>\n",
       "      <td>...</td>\n",
       "    </tr>\n",
       "    <tr>\n",
       "      <th>61</th>\n",
       "      <td>5</td>\n",
       "      <td>0.2801</td>\n",
       "      <td>vulnerable, community, solar, implement, infor...</td>\n",
       "    </tr>\n",
       "    <tr>\n",
       "      <th>62</th>\n",
       "      <td>10</td>\n",
       "      <td>0.1872</td>\n",
       "      <td>energy, space, access, green, low_income, hous...</td>\n",
       "    </tr>\n",
       "    <tr>\n",
       "      <th>63</th>\n",
       "      <td>1</td>\n",
       "      <td>0.2749</td>\n",
       "      <td>access, woman, community, sharing, prioritize,...</td>\n",
       "    </tr>\n",
       "    <tr>\n",
       "      <th>64</th>\n",
       "      <td>13</td>\n",
       "      <td>0.2242</td>\n",
       "      <td>protect, conservation, promote, gender, city, ...</td>\n",
       "    </tr>\n",
       "    <tr>\n",
       "      <th>65</th>\n",
       "      <td>1</td>\n",
       "      <td>0.2188</td>\n",
       "      <td>access, woman, community, sharing, prioritize,...</td>\n",
       "    </tr>\n",
       "  </tbody>\n",
       "</table>\n",
       "<p>66 rows × 3 columns</p>\n",
       "</div>"
      ],
      "text/plain": [
       "     0       1                                                  2\n",
       "0    2  0.1865  vulnerable, community, climate, area, prone, u...\n",
       "1   16  0.2103  energy, household, poverty, solar, low_income,...\n",
       "2   14  0.3579  expansion, vulnerable, access, target, poor, c...\n",
       "3   16  0.7036  energy, household, poverty, solar, low_income,...\n",
       "4   16  0.3092  energy, household, poverty, solar, low_income,...\n",
       "..  ..     ...                                                ...\n",
       "61   5  0.2801  vulnerable, community, solar, implement, infor...\n",
       "62  10  0.1872  energy, space, access, green, low_income, hous...\n",
       "63   1  0.2749  access, woman, community, sharing, prioritize,...\n",
       "64  13  0.2242  protect, conservation, promote, gender, city, ...\n",
       "65   1  0.2188  access, woman, community, sharing, prioritize,...\n",
       "\n",
       "[66 rows x 3 columns]"
      ]
     },
     "execution_count": 97,
     "metadata": {},
     "output_type": "execute_result"
    }
   ],
   "source": [
    "sent_topics_df"
   ]
  },
  {
   "cell_type": "code",
   "execution_count": 98,
   "metadata": {},
   "outputs": [
    {
     "data": {
      "text/html": [
       "<div>\n",
       "<style scoped>\n",
       "    .dataframe tbody tr th:only-of-type {\n",
       "        vertical-align: middle;\n",
       "    }\n",
       "\n",
       "    .dataframe tbody tr th {\n",
       "        vertical-align: top;\n",
       "    }\n",
       "\n",
       "    .dataframe thead th {\n",
       "        text-align: right;\n",
       "    }\n",
       "</style>\n",
       "<table border=\"1\" class=\"dataframe\">\n",
       "  <thead>\n",
       "    <tr style=\"text-align: right;\">\n",
       "      <th></th>\n",
       "      <th>Document_No</th>\n",
       "      <th>Dominant_Topic</th>\n",
       "      <th>Topic_Perc_Contrib</th>\n",
       "      <th>Keywords</th>\n",
       "      <th>Text</th>\n",
       "    </tr>\n",
       "  </thead>\n",
       "  <tbody>\n",
       "    <tr>\n",
       "      <th>0</th>\n",
       "      <td>0</td>\n",
       "      <td>2</td>\n",
       "      <td>0.1865</td>\n",
       "      <td>vulnerable, community, climate, area, prone, u...</td>\n",
       "      <td>empower women and young people through the de...</td>\n",
       "    </tr>\n",
       "    <tr>\n",
       "      <th>1</th>\n",
       "      <td>1</td>\n",
       "      <td>16</td>\n",
       "      <td>0.2103</td>\n",
       "      <td>energy, household, poverty, solar, low_income,...</td>\n",
       "      <td>coastal management benefit. livelihood diversi...</td>\n",
       "    </tr>\n",
       "    <tr>\n",
       "      <th>2</th>\n",
       "      <td>2</td>\n",
       "      <td>14</td>\n",
       "      <td>0.3578</td>\n",
       "      <td>expansion, vulnerable, access, target, poor, c...</td>\n",
       "      <td>greater equality of opportunity, access to ed...</td>\n",
       "    </tr>\n",
       "    <tr>\n",
       "      <th>3</th>\n",
       "      <td>3</td>\n",
       "      <td>16</td>\n",
       "      <td>0.7036</td>\n",
       "      <td>energy, household, poverty, solar, low_income,...</td>\n",
       "      <td>solar. the climate justice chapter states that...</td>\n",
       "    </tr>\n",
       "    <tr>\n",
       "      <th>4</th>\n",
       "      <td>4</td>\n",
       "      <td>16</td>\n",
       "      <td>0.3092</td>\n",
       "      <td>energy, household, poverty, solar, low_income,...</td>\n",
       "      <td>green pocket small parks expansion will facili...</td>\n",
       "    </tr>\n",
       "    <tr>\n",
       "      <th>5</th>\n",
       "      <td>5</td>\n",
       "      <td>6</td>\n",
       "      <td>0.3008</td>\n",
       "      <td>public, area, impact, low_income, certain, tra...</td>\n",
       "      <td>mobility: adjust public transport prices to su...</td>\n",
       "    </tr>\n",
       "    <tr>\n",
       "      <th>6</th>\n",
       "      <td>6</td>\n",
       "      <td>1</td>\n",
       "      <td>0.7644</td>\n",
       "      <td>access, woman, community, sharing, prioritize,...</td>\n",
       "      <td>first strategy under sustainable buildings inc...</td>\n",
       "    </tr>\n",
       "    <tr>\n",
       "      <th>7</th>\n",
       "      <td>7</td>\n",
       "      <td>0</td>\n",
       "      <td>0.4193</td>\n",
       "      <td>vulnerable, especially, health, social, housin...</td>\n",
       "      <td>green infrastructure access to all urban popul...</td>\n",
       "    </tr>\n",
       "    <tr>\n",
       "      <th>8</th>\n",
       "      <td>8</td>\n",
       "      <td>8</td>\n",
       "      <td>0.1329</td>\n",
       "      <td>benefit, mobility, transport, income, carbon, ...</td>\n",
       "      <td>the expension of cycle paths and public transp...</td>\n",
       "    </tr>\n",
       "    <tr>\n",
       "      <th>9</th>\n",
       "      <td>9</td>\n",
       "      <td>2</td>\n",
       "      <td>0.3054</td>\n",
       "      <td>vulnerable, community, climate, area, prone, u...</td>\n",
       "      <td>regional strategy for the attention of migrant...</td>\n",
       "    </tr>\n",
       "  </tbody>\n",
       "</table>\n",
       "</div>"
      ],
      "text/plain": [
       "   Document_No Dominant_Topic Topic_Perc_Contrib  \\\n",
       "0            0              2             0.1865   \n",
       "1            1             16             0.2103   \n",
       "2            2             14             0.3578   \n",
       "3            3             16             0.7036   \n",
       "4            4             16             0.3092   \n",
       "5            5              6             0.3008   \n",
       "6            6              1             0.7644   \n",
       "7            7              0             0.4193   \n",
       "8            8              8             0.1329   \n",
       "9            9              2             0.3054   \n",
       "\n",
       "                                            Keywords  \\\n",
       "0  vulnerable, community, climate, area, prone, u...   \n",
       "1  energy, household, poverty, solar, low_income,...   \n",
       "2  expansion, vulnerable, access, target, poor, c...   \n",
       "3  energy, household, poverty, solar, low_income,...   \n",
       "4  energy, household, poverty, solar, low_income,...   \n",
       "5  public, area, impact, low_income, certain, tra...   \n",
       "6  access, woman, community, sharing, prioritize,...   \n",
       "7  vulnerable, especially, health, social, housin...   \n",
       "8  benefit, mobility, transport, income, carbon, ...   \n",
       "9  vulnerable, community, climate, area, prone, u...   \n",
       "\n",
       "                                                Text  \n",
       "0   empower women and young people through the de...  \n",
       "1  coastal management benefit. livelihood diversi...  \n",
       "2   greater equality of opportunity, access to ed...  \n",
       "3  solar. the climate justice chapter states that...  \n",
       "4  green pocket small parks expansion will facili...  \n",
       "5  mobility: adjust public transport prices to su...  \n",
       "6  first strategy under sustainable buildings inc...  \n",
       "7  green infrastructure access to all urban popul...  \n",
       "8  the expension of cycle paths and public transp...  \n",
       "9  regional strategy for the attention of migrant...  "
      ]
     },
     "execution_count": 98,
     "metadata": {},
     "output_type": "execute_result"
    }
   ],
   "source": [
    "def format_topics_sentences(ldamodel=None, corpus=corpus, texts=data):\n",
    "    # Init output\n",
    "    sent_topics_df = pd.DataFrame()\n",
    "    sent_topics_df_list = list()\n",
    "    \n",
    "    # Get main topic in each document\n",
    "    for i, row_list in enumerate(ldamodel[corpus]):\n",
    "        row = row_list[0] if ldamodel.per_word_topics else row_list            \n",
    "        # print(row)\n",
    "        row = sorted(row, key=lambda x: (x[1]), reverse=True)\n",
    "        # Get the Dominant topic, Perc Contribution and Keywords for each document\n",
    "        for j, (topic_num, prop_topic) in enumerate(row):\n",
    "            if j == 0:  # => dominant topic\n",
    "                wp = ldamodel.show_topic(topic_num)\n",
    "                topic_keywords = \", \".join([word for word, prop in wp])\n",
    "                sent_topics_df_list.append(pd.Series([int(topic_num), round(prop_topic,4), topic_keywords]))\n",
    "            else:\n",
    "                break\n",
    "    sent_topics_df = pd.concat(sent_topics_df_list,axis=1,ignore_index=True)\n",
    "    sent_topics_df = sent_topics_df.transpose()\n",
    "    sent_topics_df.columns = ['Dominant_Topic', 'Perc_Contribution', 'Topic_Keywords']\n",
    "\n",
    "    # Add original text to the end of the output\n",
    "    contents = pd.Series(texts)\n",
    "    sent_topics_df = pd.concat([sent_topics_df, contents], axis=1)\n",
    "    return(sent_topics_df)\n",
    "\n",
    "\n",
    "df_topic_sents_keywords = format_topics_sentences(ldamodel=lda_model, corpus=corpus, texts=texts)\n",
    "\n",
    "# Format\n",
    "df_dominant_topic = df_topic_sents_keywords.reset_index()\n",
    "df_dominant_topic.columns = ['Document_No', 'Dominant_Topic', 'Topic_Perc_Contrib', 'Keywords', 'Text']\n",
    "df_dominant_topic.head(10)"
   ]
  },
  {
   "cell_type": "code",
   "execution_count": 99,
   "metadata": {},
   "outputs": [],
   "source": [
    "# the topic numbers are not compatible with the topic numbers in plydavis graph. So, I made the chages below\n",
    "#a=[1,5,3,10,7,7,1,6,7,8,1,4,2,11,2,9,2,12,1,3,3,4,3,5,8,2,4,14,13,1,1,1,1,5,5,2,3]\n",
    "#df_topic_sents_keywords[\"Dominant_Topic\"]= a\n",
    "df_dominant_topic[\"Document Title\"] = df[\"Policy Choices\"]\n",
    "df_dominant_topic.to_csv('C40_Policy Choices.csv')  \n",
    "#df_dominant_topic[\"Dominant_Topic\"] = a"
   ]
  },
  {
   "cell_type": "code",
   "execution_count": null,
   "metadata": {},
   "outputs": [],
   "source": [
    "# Display setting to show more characters in column\n",
    "pd.options.display.max_colwidth = 100\n",
    "\n",
    "sent_topics_sorteddf_mallet = pd.DataFrame()\n",
    "sent_topics_outdf_grpd = df_topic_sents_keywords.groupby('Dominant_Topic')\n",
    "\n",
    "for i, grp in sent_topics_outdf_grpd:\n",
    "    sent_topics_sorteddf_mallet = pd.concat([sent_topics_sorteddf_mallet, \n",
    "                                             grp.sort_values(['Perc_Contribution'], ascending=False).head(1)], \n",
    "                                            axis=0)\n",
    "\n",
    "# Reset Index    \n",
    "sent_topics_sorteddf_mallet.reset_index(drop=True, inplace=True)\n",
    "\n",
    "# Format\n",
    "sent_topics_sorteddf_mallet.columns = ['Topic_Num', \"Topic_Perc_Contrib\", \"Keywords\", \"Representative Text\"]\n",
    "\n",
    "# Show\n",
    "sent_topics_sorteddf_mallet.head(10)\n",
    "#sent_topics_sorteddf_mallet.to_csv('policy_choices.csv')  "
   ]
  }
 ],
 "metadata": {
  "interpreter": {
   "hash": "a73a788e6ae5d7f0624b95e19dcb1bf03ac5611cd818d9075c45a5b2628860b8"
  },
  "kernelspec": {
   "display_name": "Python 3 (ipykernel)",
   "language": "python",
   "name": "python3"
  },
  "language_info": {
   "codemirror_mode": {
    "name": "ipython",
    "version": 3
   },
   "file_extension": ".py",
   "mimetype": "text/x-python",
   "name": "python",
   "nbconvert_exporter": "python",
   "pygments_lexer": "ipython3",
   "version": "3.9.15"
  }
 },
 "nbformat": 4,
 "nbformat_minor": 2
}
